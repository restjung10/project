{
  "nbformat": 4,
  "nbformat_minor": 0,
  "metadata": {
    "colab": {
      "name": "Untitled9 (2).ipynb",
      "provenance": [],
      "collapsed_sections": []
    },
    "kernelspec": {
      "name": "python3",
      "display_name": "Python 3"
    },
    "language_info": {
      "name": "python"
    },
    "accelerator": "GPU"
  },
  "cells": [
    {
      "cell_type": "markdown",
      "metadata": {
        "id": "yy0mUDzcDGDx"
      },
      "source": [
        "# **게임 리뷰를 통해 유저들의 민심 알아보기 (GTA5)**\n"
      ]
    },
    {
      "cell_type": "markdown",
      "metadata": {
        "id": "8ubC-8dbr6fM"
      },
      "source": [
        "원래 하고 싶었던 프로젝트는 게임을 하나 정하여 해당 게임에 대한 정보 혹은 평가 등을 공유 하는 커뮤니티들의 게시글들을 수집하고 해당 게시글들을 딥러닝을 통해서 유저들의 게임에 대한 평가/추천도/감정등을 분석하고 싶었습니다. \n",
        "\n",
        "\n",
        "하지만 데이터를 모으고 전처리하는 과정에 시간이 상당히 소요될 것 같아 Kaggle에 있는 GTA5에 대한 리뷰 데이터를 사용하여 유저들이 게임을 해보고 이 게임을 추천하는지 하지않는지를 알아보는 프로젝트로 변경하여 진행하게 되었습니다."
      ]
    },
    {
      "cell_type": "markdown",
      "metadata": {
        "id": "G80bm5Ssrn9e"
      },
      "source": [
        "# 데이터 불러오기\n"
      ]
    },
    {
      "cell_type": "markdown",
      "metadata": {
        "id": "5pI_NhEptTOk"
      },
      "source": [
        "데이터는 Kaggle의 steam Comments라는 데이터를 사용하였습니다.\n",
        "\n",
        "https://www.kaggle.com/charliewu0729/steam-comments"
      ]
    },
    {
      "cell_type": "code",
      "metadata": {
        "colab": {
          "base_uri": "https://localhost:8080/"
        },
        "id": "r9Nussjooua_",
        "outputId": "ca51a2a7-3b67-4906-d801-3779f809da04"
      },
      "source": [
        "from google.colab import drive  #구글 드라이브 연결\n",
        "\n",
        "drive.mount('/content/drive')"
      ],
      "execution_count": 1,
      "outputs": [
        {
          "output_type": "stream",
          "name": "stdout",
          "text": [
            "Mounted at /content/drive\n"
          ]
        }
      ]
    },
    {
      "cell_type": "code",
      "metadata": {
        "id": "3kWQi7Gfo6h0"
      },
      "source": [
        "import pandas as pd\n",
        " \n",
        "df = pd.read_csv('/content/drive/MyDrive/gtav_english.csv')  #데이터 불러오기"
      ],
      "execution_count": 4,
      "outputs": []
    },
    {
      "cell_type": "markdown",
      "metadata": {
        "id": "QteBySXnDJPl"
      },
      "source": [
        "# 데이터 전처리\n"
      ]
    },
    {
      "cell_type": "markdown",
      "metadata": {
        "id": "YZfZnyLFtjff"
      },
      "source": [
        "제가 사용한 데이터에는 코멘트를 입력한 유저의 이름,날짜,플레이타임,추천 여부,코멘트,해당 코멘트의 링크로 이루어져있었습니다.\n",
        "\n",
        "제가 이번 프로젝트로 알고자 한건 코멘트의 내용을 통해 게임 추천 여부를 파악하는 것이였습니다.\n",
        "\n",
        "따라서 불필요하다고 여겨지는 이름,날짜,플레이타임,링크에 대한 정보는 제거하였고, 추가적으로 추천 비추천도 0과 1로 바꿔 라벨링해주었습니다.\n",
        "\n"
      ]
    },
    {
      "cell_type": "code",
      "metadata": {
        "id": "eOaw5TFnqlt4"
      },
      "source": [
        "df = df.drop(['Name','Date','PlayTime','Link'],axis=1)  #불필요 컬럼 제거"
      ],
      "execution_count": 5,
      "outputs": []
    },
    {
      "cell_type": "code",
      "metadata": {
        "id": "n6XSv6UFt4YB"
      },
      "source": [
        "change_value_dict = {'Not Recommended':0, 'Recommended':1}  #추천하지 않는다 0 , 추천한다 1\n",
        "df = df.replace({'Recommend':change_value_dict})"
      ],
      "execution_count": 6,
      "outputs": []
    },
    {
      "cell_type": "markdown",
      "metadata": {
        "id": "ZD0emGK4uQw9"
      },
      "source": [
        "추천 비추천의 비율은 비추천이 58.9% 추천이41.1%로 비추천의 비율이 높았습니다."
      ]
    },
    {
      "cell_type": "code",
      "metadata": {
        "colab": {
          "base_uri": "https://localhost:8080/"
        },
        "id": "TDrrcbT8vAiN",
        "outputId": "320bc7f6-7263-4e65-d82e-793e8dac3b8d"
      },
      "source": [
        "df['Recommend'].value_counts() #타겟 밸류"
      ],
      "execution_count": 7,
      "outputs": [
        {
          "output_type": "execute_result",
          "data": {
            "text/plain": [
              "0    43227\n",
              "1    30113\n",
              "Name: Recommend, dtype: int64"
            ]
          },
          "metadata": {},
          "execution_count": 7
        }
      ]
    },
    {
      "cell_type": "code",
      "metadata": {
        "colab": {
          "base_uri": "https://localhost:8080/",
          "height": 284
        },
        "id": "8ckuZeVyIQdI",
        "outputId": "31b5773b-edfc-45a8-f8b5-f64fe237c0d2"
      },
      "source": [
        "df['Recommend'].value_counts().plot(kind='pie',  subplots=True, autopct='%1.1f%%')"
      ],
      "execution_count": 28,
      "outputs": [
        {
          "output_type": "execute_result",
          "data": {
            "text/plain": [
              "array([<matplotlib.axes._subplots.AxesSubplot object at 0x7f9994a87f90>],\n",
              "      dtype=object)"
            ]
          },
          "metadata": {},
          "execution_count": 28
        },
        {
          "output_type": "display_data",
          "data": {
            "image/png": "[encoded data removed]",
            "text/plain": [
              "<Figure size 432x288 with 1 Axes>"
            ]
          },
          "metadata": {}
        }
      ]
    },
    {
      "cell_type": "markdown",
      "metadata": {
        "id": "3dq8BvIkuaU5"
      },
      "source": [
        "그리고 후에 코멘트들을 모두 소문자로 바꿔주고 특수문자들은 제거하는 작업을 해주었습니다."
      ]
    },
    {
      "cell_type": "code",
      "metadata": {
        "id": "mf8zvhHDBmzj"
      },
      "source": [
        "df = df.astype({'Text':'string'})"
      ],
      "execution_count": 8,
      "outputs": []
    },
    {
      "cell_type": "code",
      "metadata": {
        "id": "cf0Gy-Kiya5O"
      },
      "source": [
        "df['Text'] = df['Text'].str.lower() #소문자로 모두 변경"
      ],
      "execution_count": 9,
      "outputs": []
    },
    {
      "cell_type": "code",
      "metadata": {
        "id": "u-wp9tYyC0vj"
      },
      "source": [
        "import re\n",
        "\n",
        "regex = r\"[^a-zA-Z0-9 ]\"\n",
        "\n",
        "subst = \"\""
      ],
      "execution_count": 10,
      "outputs": []
    },
    {
      "cell_type": "code",
      "metadata": {
        "id": "qsHdBvHaC7bp"
      },
      "source": [
        "def tokenize(text):\n",
        "    tokens = re.sub(regex, subst, str(text))\n",
        "    return tokens"
      ],
      "execution_count": 11,
      "outputs": []
    },
    {
      "cell_type": "code",
      "metadata": {
        "colab": {
          "base_uri": "https://localhost:8080/",
          "height": 204
        },
        "id": "1GSukuUUDA2t",
        "outputId": "867d3c41-f6b3-432f-9d1e-33ceee42bfd2"
      },
      "source": [
        "df['Text'] = df['Text'].apply(tokenize)   #특수문자 등 제거\n",
        "df.head()"
      ],
      "execution_count": 12,
      "outputs": [
        {
          "output_type": "execute_result",
          "data": {
            "text/html": [
              "<div>\n",
              "<style scoped>\n",
              "    .dataframe tbody tr th:only-of-type {\n",
              "        vertical-align: middle;\n",
              "    }\n",
              "\n",
              "    .dataframe tbody tr th {\n",
              "        vertical-align: top;\n",
              "    }\n",
              "\n",
              "    .dataframe thead th {\n",
              "        text-align: right;\n",
              "    }\n",
              "</style>\n",
              "<table border=\"1\" class=\"dataframe\">\n",
              "  <thead>\n",
              "    <tr style=\"text-align: right;\">\n",
              "      <th></th>\n",
              "      <th>Recommend</th>\n",
              "      <th>Text</th>\n",
              "    </tr>\n",
              "  </thead>\n",
              "  <tbody>\n",
              "    <tr>\n",
              "      <th>0</th>\n",
              "      <td>0</td>\n",
              "      <td>after more than 1000 hours 3 shark cards inves...</td>\n",
              "    </tr>\n",
              "    <tr>\n",
              "      <th>1</th>\n",
              "      <td>0</td>\n",
              "      <td>firstly ive been with steam now for 13 years i...</td>\n",
              "    </tr>\n",
              "    <tr>\n",
              "      <th>2</th>\n",
              "      <td>0</td>\n",
              "      <td>best anti cheat system ever d ban legit player...</td>\n",
              "    </tr>\n",
              "    <tr>\n",
              "      <th>3</th>\n",
              "      <td>0</td>\n",
              "      <td>i login to gta online after not having played ...</td>\n",
              "    </tr>\n",
              "    <tr>\n",
              "      <th>4</th>\n",
              "      <td>0</td>\n",
              "      <td>gta v pre purchase 6999megalodon shark card 10...</td>\n",
              "    </tr>\n",
              "  </tbody>\n",
              "</table>\n",
              "</div>"
            ],
            "text/plain": [
              "   Recommend                                               Text\n",
              "0          0  after more than 1000 hours 3 shark cards inves...\n",
              "1          0  firstly ive been with steam now for 13 years i...\n",
              "2          0  best anti cheat system ever d ban legit player...\n",
              "3          0  i login to gta online after not having played ...\n",
              "4          0  gta v pre purchase 6999megalodon shark card 10..."
            ]
          },
          "metadata": {},
          "execution_count": 12
        }
      ]
    },
    {
      "cell_type": "markdown",
      "metadata": {
        "id": "CC1RcUSpujr7"
      },
      "source": [
        "불용어에 대해서는 기본적인 불용어들을 제거 해준 후 추가로 사용빈도는 높지만 분석에 필요가 없다고 생각되는 단어들을 제거하였고, 문장을 토큰화 하여 저장했습니다."
      ]
    },
    {
      "cell_type": "code",
      "metadata": {
        "id": "tyzKgejd3hYD"
      },
      "source": [
        "import spacy\n",
        "from spacy.tokenizer import Tokenizer\n",
        "\n",
        "nlp = spacy.load(\"en_core_web_sm\")\n",
        "\n",
        "tokenizer = Tokenizer(nlp.vocab)"
      ],
      "execution_count": 13,
      "outputs": []
    },
    {
      "cell_type": "code",
      "metadata": {
        "colab": {
          "base_uri": "https://localhost:8080/"
        },
        "id": "Im7NVfu_DZNb",
        "outputId": "f40c2887-b9e5-4364-aea3-14d3c2e1497b"
      },
      "source": [
        "tokens = []\n",
        "# 토큰에서 불용어 제거, 소문자화 하여 업데이트\n",
        "for doc in tokenizer.pipe(df['Text']):\n",
        "    doc_tokens = []\n",
        "\n",
        "    # A doc is a sequence of Token(<class 'spacy.tokens.doc.Doc'>)\n",
        "    for token in doc:\n",
        "        # 토큰이 불용어와 구두점이 아니면 저장\n",
        "        if (token.is_stop == False) & (token.is_punct == False):\n",
        "            doc_tokens.append(token.text.lower())\n",
        "\n",
        "    tokens.append(doc_tokens)\n",
        "\n",
        "df['tokens'] = tokens\n",
        "df.tokens.head()"
      ],
      "execution_count": 14,
      "outputs": [
        {
          "output_type": "execute_result",
          "data": {
            "text/plain": [
              "0    [1000, hours, 3, shark, cards, invested, mod, ...\n",
              "1    [firstly, ive, steam, 13, years, far, games, c...\n",
              "2    [best, anti, cheat, system, d, ban, legit, pla...\n",
              "3    [login, gta, online, having, played, months, p...\n",
              "4    [gta, v, pre, purchase, 6999megalodon, shark, ...\n",
              "Name: tokens, dtype: object"
            ]
          },
          "metadata": {},
          "execution_count": 14
        }
      ]
    },
    {
      "cell_type": "code",
      "metadata": {
        "colab": {
          "base_uri": "https://localhost:8080/"
        },
        "id": "mx5zAUdQFjnq",
        "outputId": "1ab728b7-d79a-464f-a5ba-0ecfeb4b9ad8"
      },
      "source": [
        "from collections import Counter\n",
        "\n",
        "word_counts = Counter()\n",
        "\n",
        "df['tokens'].apply(lambda x: word_counts.update(x))\n",
        "\n",
        "word_counts.most_common(10)"
      ],
      "execution_count": 15,
      "outputs": [
        {
          "output_type": "execute_result",
          "data": {
            "text/plain": [
              "[('game', 73333),\n",
              " (' ', 30396),\n",
              " ('online', 24943),\n",
              " ('gta', 20027),\n",
              " ('money', 16650),\n",
              " ('rockstar', 16631),\n",
              " ('play', 14999),\n",
              " ('dont', 12763),\n",
              " ('fun', 12530),\n",
              " ('good', 12247)]"
            ]
          },
          "metadata": {},
          "execution_count": 15
        }
      ]
    },
    {
      "cell_type": "code",
      "metadata": {
        "id": "4UAnOJHkGIyr"
      },
      "source": [
        "STOP_WORDS = nlp.Defaults.stop_words.union(['game',' ','online','gta','money','rockstar','play','dont'])"
      ],
      "execution_count": 16,
      "outputs": []
    },
    {
      "cell_type": "code",
      "metadata": {
        "id": "EwSY_u1ZGZL8"
      },
      "source": [
        "tokens = []\n",
        "\n",
        "for doc in tokenizer.pipe(df['Text']):\n",
        "    \n",
        "    doc_tokens = []\n",
        "    \n",
        "    for token in doc: \n",
        "        if token.text.lower() not in STOP_WORDS:\n",
        "            doc_tokens.append(token.text.lower())\n",
        "   \n",
        "    tokens.append(doc_tokens)\n",
        "    \n",
        "df['tokens'] = tokens"
      ],
      "execution_count": 17,
      "outputs": []
    },
    {
      "cell_type": "code",
      "metadata": {
        "colab": {
          "base_uri": "https://localhost:8080/"
        },
        "id": "QA6xYtkwGfHF",
        "outputId": "f25c45e2-d998-471a-e5bd-74b1e5f329f0"
      },
      "source": [
        "df.tokens.head()"
      ],
      "execution_count": 18,
      "outputs": [
        {
          "output_type": "execute_result",
          "data": {
            "text/plain": [
              "0    [1000, hours, 3, shark, cards, invested, mod, ...\n",
              "1    [firstly, ive, steam, 13, years, far, games, c...\n",
              "2    [best, anti, cheat, system, d, ban, legit, pla...\n",
              "3    [login, having, played, months, completely, fi...\n",
              "4    [v, pre, purchase, 6999megalodon, shark, card,...\n",
              "Name: tokens, dtype: object"
            ]
          },
          "metadata": {},
          "execution_count": 18
        }
      ]
    },
    {
      "cell_type": "markdown",
      "metadata": {
        "id": "bqA8lImAu2FT"
      },
      "source": [
        "그리고 사용되는 단어가 굉장히 많을 것 같아 빈도가 높은 단어들만 추려서 학습을 하고자 아래와 같이 빈도가 높은 단어들을 뽑아내 갯수를 확인했습니다."
      ]
    },
    {
      "cell_type": "code",
      "metadata": {
        "id": "a3oz18ZtEtnC"
      },
      "source": [
        "def word_count(docs):\n",
        "    \"\"\" 토큰화된 문서들을 입력받아 토큰을 카운트 하고 관련된 속성을 가진 데이터프레임을 리턴합니다.\n",
        "    Args:\n",
        "        docs (series or list): 토큰화된 문서가 들어있는 list\n",
        "    Returns:\n",
        "        list: Dataframe\n",
        "    \"\"\"\n",
        "    # 전체 코퍼스에서 단어 빈도 카운트\n",
        "    word_counts = Counter()\n",
        "\n",
        "    # 단어가 존재하는 문서의 빈도 카운트, 단어가 한 번 이상 존재하면 +1\n",
        "    word_in_docs = Counter()\n",
        "\n",
        "    # 전체 문서의 갯수\n",
        "    total_docs = len(docs)\n",
        "\n",
        "    for doc in docs:\n",
        "        word_counts.update(doc)\n",
        "        word_in_docs.update(set(doc))\n",
        "\n",
        "    temp = zip(word_counts.keys(), word_counts.values())\n",
        "\n",
        "    wc = pd.DataFrame(temp, columns = ['word', 'count'])\n",
        "\n",
        "    # 단어의 순위\n",
        "    # method='first': 같은 값의 경우 먼저나온 요소를 우선\n",
        "    wc['rank'] = wc['count'].rank(method='first', ascending=False)\n",
        "    total = wc['count'].sum()\n",
        "\n",
        "    # 코퍼스 내 단어의 비율\n",
        "    wc['percent'] = wc['count'].apply(lambda x: x / total)\n",
        "\n",
        "    wc = wc.sort_values(by='rank')\n",
        "\n",
        "    # 누적 비율\n",
        "    # cumsum() : cumulative sum\n",
        "    wc['cul_percent'] = wc['percent'].cumsum()\n",
        "\n",
        "    temp2 = zip(word_in_docs.keys(), word_in_docs.values())\n",
        "    ac = pd.DataFrame(temp2, columns=['word', 'word_in_docs'])\n",
        "    wc = ac.merge(wc, on='word')\n",
        "    \n",
        "    # 전체 문서 중 존재하는 비율\n",
        "    wc['word_in_docs_percent'] = wc['word_in_docs'].apply(lambda x: x / total_docs)\n",
        "\n",
        "    return wc.sort_values(by='rank')"
      ],
      "execution_count": 19,
      "outputs": []
    },
    {
      "cell_type": "code",
      "metadata": {
        "id": "34Kt_nOaEtfv"
      },
      "source": [
        "wc = word_count(df['tokens'])"
      ],
      "execution_count": 20,
      "outputs": []
    },
    {
      "cell_type": "code",
      "metadata": {
        "colab": {
          "base_uri": "https://localhost:8080/",
          "height": 387
        },
        "id": "fatWGoHlEwk2",
        "outputId": "bdedc824-8e8e-4bc9-800c-2eed91a1fee6"
      },
      "source": [
        "import seaborn as sns\n",
        "\n",
        "sns.displot(wc['word_in_docs_percent'],kind='kde')"
      ],
      "execution_count": 29,
      "outputs": [
        {
          "output_type": "execute_result",
          "data": {
            "text/plain": [
              "<seaborn.axisgrid.FacetGrid at 0x7f9994a79e10>"
            ]
          },
          "metadata": {},
          "execution_count": 29
        },
        {
          "output_type": "display_data",
          "data": {
            "image/png": "[encoded data removed]",
            "text/plain": [
              "<Figure size 360x360 with 1 Axes>"
            ]
          },
          "metadata": {
            "needs_background": "light"
          }
        }
      ]
    },
    {
      "cell_type": "code",
      "metadata": {
        "colab": {
          "base_uri": "https://localhost:8080/",
          "height": 369
        },
        "id": "Wq90dEkmEx4E",
        "outputId": "8ab493c6-7d87-4fce-f2f8-2501a28f58bc"
      },
      "source": [
        "wc = wc[wc['word_in_docs_percent'] >= 0.01]\n",
        "\n",
        "sns.displot(wc['word_in_docs_percent'], kind='kde');"
      ],
      "execution_count": 30,
      "outputs": [
        {
          "output_type": "display_data",
          "data": {
            "image/png": "[encoded data removed]",
            "text/plain": [
              "<Figure size 360x360 with 1 Axes>"
            ]
          },
          "metadata": {
            "needs_background": "light"
          }
        }
      ]
    },
    {
      "cell_type": "code",
      "metadata": {
        "colab": {
          "base_uri": "https://localhost:8080/",
          "height": 419
        },
        "id": "0C8BXn45Ffjb",
        "outputId": "743a6ef7-35dd-45e4-8443-05f8cb419415"
      },
      "source": [
        "wc  #323개"
      ],
      "execution_count": 31,
      "outputs": [
        {
          "output_type": "execute_result",
          "data": {
            "text/html": [
              "<div>\n",
              "<style scoped>\n",
              "    .dataframe tbody tr th:only-of-type {\n",
              "        vertical-align: middle;\n",
              "    }\n",
              "\n",
              "    .dataframe tbody tr th {\n",
              "        vertical-align: top;\n",
              "    }\n",
              "\n",
              "    .dataframe thead th {\n",
              "        text-align: right;\n",
              "    }\n",
              "</style>\n",
              "<table border=\"1\" class=\"dataframe\">\n",
              "  <thead>\n",
              "    <tr style=\"text-align: right;\">\n",
              "      <th></th>\n",
              "      <th>word</th>\n",
              "      <th>word_in_docs</th>\n",
              "      <th>count</th>\n",
              "      <th>rank</th>\n",
              "      <th>percent</th>\n",
              "      <th>cul_percent</th>\n",
              "      <th>word_in_docs_percent</th>\n",
              "    </tr>\n",
              "  </thead>\n",
              "  <tbody>\n",
              "    <tr>\n",
              "      <th>77</th>\n",
              "      <td>fun</td>\n",
              "      <td>9015</td>\n",
              "      <td>12530</td>\n",
              "      <td>1.0</td>\n",
              "      <td>0.008021</td>\n",
              "      <td>0.008021</td>\n",
              "      <td>0.122921</td>\n",
              "    </tr>\n",
              "    <tr>\n",
              "      <th>157</th>\n",
              "      <td>good</td>\n",
              "      <td>9479</td>\n",
              "      <td>12247</td>\n",
              "      <td>2.0</td>\n",
              "      <td>0.007840</td>\n",
              "      <td>0.015860</td>\n",
              "      <td>0.129247</td>\n",
              "    </tr>\n",
              "    <tr>\n",
              "      <th>185</th>\n",
              "      <td>like</td>\n",
              "      <td>8176</td>\n",
              "      <td>12209</td>\n",
              "      <td>3.0</td>\n",
              "      <td>0.007815</td>\n",
              "      <td>0.023675</td>\n",
              "      <td>0.111481</td>\n",
              "    </tr>\n",
              "    <tr>\n",
              "      <th>262</th>\n",
              "      <td>mods</td>\n",
              "      <td>8777</td>\n",
              "      <td>11986</td>\n",
              "      <td>4.0</td>\n",
              "      <td>0.007672</td>\n",
              "      <td>0.031348</td>\n",
              "      <td>0.119675</td>\n",
              "    </tr>\n",
              "    <tr>\n",
              "      <th>310</th>\n",
              "      <td>buy</td>\n",
              "      <td>8791</td>\n",
              "      <td>11912</td>\n",
              "      <td>5.0</td>\n",
              "      <td>0.007625</td>\n",
              "      <td>0.038973</td>\n",
              "      <td>0.119866</td>\n",
              "    </tr>\n",
              "    <tr>\n",
              "      <th>...</th>\n",
              "      <td>...</td>\n",
              "      <td>...</td>\n",
              "      <td>...</td>\n",
              "      <td>...</td>\n",
              "      <td>...</td>\n",
              "      <td>...</td>\n",
              "      <td>...</td>\n",
              "    </tr>\n",
              "    <tr>\n",
              "      <th>1850</th>\n",
              "      <td>recent</td>\n",
              "      <td>752</td>\n",
              "      <td>823</td>\n",
              "      <td>333.0</td>\n",
              "      <td>0.000527</td>\n",
              "      <td>0.491013</td>\n",
              "      <td>0.010254</td>\n",
              "    </tr>\n",
              "    <tr>\n",
              "      <th>2528</th>\n",
              "      <td>refund</td>\n",
              "      <td>734</td>\n",
              "      <td>822</td>\n",
              "      <td>334.0</td>\n",
              "      <td>0.000526</td>\n",
              "      <td>0.491539</td>\n",
              "      <td>0.010008</td>\n",
              "    </tr>\n",
              "    <tr>\n",
              "      <th>166</th>\n",
              "      <td>leave</td>\n",
              "      <td>735</td>\n",
              "      <td>799</td>\n",
              "      <td>339.0</td>\n",
              "      <td>0.000511</td>\n",
              "      <td>0.494130</td>\n",
              "      <td>0.010022</td>\n",
              "    </tr>\n",
              "    <tr>\n",
              "      <th>74</th>\n",
              "      <td>wasnt</td>\n",
              "      <td>740</td>\n",
              "      <td>794</td>\n",
              "      <td>340.0</td>\n",
              "      <td>0.000508</td>\n",
              "      <td>0.494638</td>\n",
              "      <td>0.010090</td>\n",
              "    </tr>\n",
              "    <tr>\n",
              "      <th>1391</th>\n",
              "      <td>illegal</td>\n",
              "      <td>752</td>\n",
              "      <td>787</td>\n",
              "      <td>341.0</td>\n",
              "      <td>0.000504</td>\n",
              "      <td>0.495142</td>\n",
              "      <td>0.010254</td>\n",
              "    </tr>\n",
              "  </tbody>\n",
              "</table>\n",
              "<p>323 rows × 7 columns</p>\n",
              "</div>"
            ],
            "text/plain": [
              "         word  word_in_docs  count  ...   percent  cul_percent  word_in_docs_percent\n",
              "77        fun          9015  12530  ...  0.008021     0.008021              0.122921\n",
              "157      good          9479  12247  ...  0.007840     0.015860              0.129247\n",
              "185      like          8176  12209  ...  0.007815     0.023675              0.111481\n",
              "262      mods          8777  11986  ...  0.007672     0.031348              0.119675\n",
              "310       buy          8791  11912  ...  0.007625     0.038973              0.119866\n",
              "...       ...           ...    ...  ...       ...          ...                   ...\n",
              "1850   recent           752    823  ...  0.000527     0.491013              0.010254\n",
              "2528   refund           734    822  ...  0.000526     0.491539              0.010008\n",
              "166     leave           735    799  ...  0.000511     0.494130              0.010022\n",
              "74      wasnt           740    794  ...  0.000508     0.494638              0.010090\n",
              "1391  illegal           752    787  ...  0.000504     0.495142              0.010254\n",
              "\n",
              "[323 rows x 7 columns]"
            ]
          },
          "metadata": {},
          "execution_count": 31
        }
      ]
    },
    {
      "cell_type": "markdown",
      "metadata": {
        "id": "X7x4RVjZDWUZ"
      },
      "source": [
        "# LSTM모델"
      ]
    },
    {
      "cell_type": "markdown",
      "metadata": {
        "id": "8DNMDZL3vLw6"
      },
      "source": [
        "먼저 데이터를 학습하기전 학습/검증 세트로 나누어 주었고 토큰화 과정에서 앞서 알아본 빈도 높은 323개의 단어만 사용하기위해 323으로 지정해주고 진행하였습니다."
      ]
    },
    {
      "cell_type": "code",
      "metadata": {
        "id": "XRiKUwn7Xl3N"
      },
      "source": [
        "from sklearn.model_selection import train_test_split\n",
        "\n",
        "X = df['tokens']\n",
        "y = df['Recommend']\n",
        "\n",
        "X_train, X_test = train_test_split(X, test_size = 0.2, random_state=42)\n",
        "y_train, y_test = train_test_split(y, test_size = 0.2, random_state=42)"
      ],
      "execution_count": 32,
      "outputs": []
    },
    {
      "cell_type": "code",
      "metadata": {
        "id": "UQyMV1QzYJjb"
      },
      "source": [
        "from keras.preprocessing.text import Tokenizer\n",
        "from tensorflow.keras.preprocessing import sequence\n",
        "\n",
        "max_words = 323\n",
        "max_len = 400\n",
        "\n",
        "tok = Tokenizer(num_words=max_words)\n",
        "tok.fit_on_texts(X_train)\n",
        "\n",
        "sequences = tok.texts_to_sequences(X_train)\n",
        "sequences_matrix = sequence.pad_sequences(sequences, maxlen=max_len)\n",
        "sequences2 = tok.texts_to_sequences(X_test)\n",
        "sequences_matrix2 = sequence.pad_sequences(sequences2, maxlen=max_len)"
      ],
      "execution_count": 65,
      "outputs": []
    },
    {
      "cell_type": "code",
      "metadata": {
        "id": "GGN0FE0WYh4t"
      },
      "source": [
        "from keras.models import Model\n",
        "from keras.layers import LSTM, Activation, Dense, Dropout, Input, Embedding\n",
        "\n",
        "def RNN():\n",
        "    inputs = Input(name='inputs',shape=[max_len])\n",
        "    layer = Embedding(max_words,64,input_length=max_len)(inputs)\n",
        "    layer = LSTM(64)(layer)\n",
        "    layer = Dense(256,name='FC1')(layer)\n",
        "    layer = Activation('relu')(layer)\n",
        "    layer = Dropout(0.5)(layer)\n",
        "    layer = Dense(1,name='out_layer')(layer)\n",
        "    layer = Activation('sigmoid')(layer)\n",
        "    model = Model(inputs=inputs,outputs=layer)\n",
        "    model.compile(loss='binary_crossentropy',optimizer='adam',metrics=['accuracy'])\n",
        "    return model"
      ],
      "execution_count": 97,
      "outputs": []
    },
    {
      "cell_type": "code",
      "metadata": {
        "colab": {
          "base_uri": "https://localhost:8080/"
        },
        "id": "BdW2fnn2YrJa",
        "outputId": "059bfd2d-a3b6-4787-b702-e06032dccf37"
      },
      "source": [
        "model = RNN()\n",
        "model.summary()\n"
      ],
      "execution_count": 67,
      "outputs": [
        {
          "output_type": "stream",
          "name": "stdout",
          "text": [
            "Model: \"model_5\"\n",
            "_________________________________________________________________\n",
            "Layer (type)                 Output Shape              Param #   \n",
            "=================================================================\n",
            "inputs (InputLayer)          [(None, 400)]             0         \n",
            "_________________________________________________________________\n",
            "embedding_5 (Embedding)      (None, 400, 64)           20672     \n",
            "_________________________________________________________________\n",
            "lstm_5 (LSTM)                (None, 64)                33024     \n",
            "_________________________________________________________________\n",
            "FC1 (Dense)                  (None, 256)               16640     \n",
            "_________________________________________________________________\n",
            "activation_10 (Activation)   (None, 256)               0         \n",
            "_________________________________________________________________\n",
            "dropout_5 (Dropout)          (None, 256)               0         \n",
            "_________________________________________________________________\n",
            "out_layer (Dense)            (None, 1)                 257       \n",
            "_________________________________________________________________\n",
            "activation_11 (Activation)   (None, 1)                 0         \n",
            "=================================================================\n",
            "Total params: 70,593\n",
            "Trainable params: 70,593\n",
            "Non-trainable params: 0\n",
            "_________________________________________________________________\n"
          ]
        }
      ]
    },
    {
      "cell_type": "code",
      "metadata": {
        "colab": {
          "base_uri": "https://localhost:8080/"
        },
        "id": "rz9v8OfvYwq3",
        "outputId": "ac37bc1a-5125-4d47-94a4-6ad5b82954a6"
      },
      "source": [
        "history = model.fit(sequences_matrix,y_train,batch_size=128,epochs=20, validation_data=(sequences_matrix2,y_test))"
      ],
      "execution_count": 68,
      "outputs": [
        {
          "output_type": "stream",
          "name": "stdout",
          "text": [
            "Epoch 1/20\n",
            "459/459 [==============================] - 14s 27ms/step - loss: 0.4239 - accuracy: 0.7934 - val_loss: 0.3863 - val_accuracy: 0.8143\n",
            "Epoch 2/20\n",
            "459/459 [==============================] - 12s 26ms/step - loss: 0.3809 - accuracy: 0.8191 - val_loss: 0.3755 - val_accuracy: 0.8184\n",
            "Epoch 3/20\n",
            "459/459 [==============================] - 12s 26ms/step - loss: 0.3692 - accuracy: 0.8237 - val_loss: 0.3700 - val_accuracy: 0.8214\n",
            "Epoch 4/20\n",
            "459/459 [==============================] - 12s 26ms/step - loss: 0.3634 - accuracy: 0.8267 - val_loss: 0.3708 - val_accuracy: 0.8186\n",
            "Epoch 5/20\n",
            "459/459 [==============================] - 12s 25ms/step - loss: 0.3589 - accuracy: 0.8295 - val_loss: 0.3679 - val_accuracy: 0.8209\n",
            "Epoch 6/20\n",
            "459/459 [==============================] - 12s 26ms/step - loss: 0.3552 - accuracy: 0.8297 - val_loss: 0.3647 - val_accuracy: 0.8229\n",
            "Epoch 7/20\n",
            "459/459 [==============================] - 12s 25ms/step - loss: 0.3523 - accuracy: 0.8305 - val_loss: 0.3683 - val_accuracy: 0.8217\n",
            "Epoch 8/20\n",
            "459/459 [==============================] - 12s 25ms/step - loss: 0.3476 - accuracy: 0.8344 - val_loss: 0.3629 - val_accuracy: 0.8267\n",
            "Epoch 9/20\n",
            "459/459 [==============================] - 12s 26ms/step - loss: 0.3430 - accuracy: 0.8354 - val_loss: 0.3640 - val_accuracy: 0.8227\n",
            "Epoch 10/20\n",
            "459/459 [==============================] - 12s 25ms/step - loss: 0.3390 - accuracy: 0.8367 - val_loss: 0.3664 - val_accuracy: 0.8251\n",
            "Epoch 11/20\n",
            "459/459 [==============================] - 12s 25ms/step - loss: 0.3334 - accuracy: 0.8393 - val_loss: 0.3639 - val_accuracy: 0.8268\n",
            "Epoch 12/20\n",
            "459/459 [==============================] - 12s 26ms/step - loss: 0.3280 - accuracy: 0.8414 - val_loss: 0.3598 - val_accuracy: 0.8276\n",
            "Epoch 13/20\n",
            "459/459 [==============================] - 12s 25ms/step - loss: 0.3246 - accuracy: 0.8440 - val_loss: 0.3622 - val_accuracy: 0.8277\n",
            "Epoch 14/20\n",
            "459/459 [==============================] - 12s 26ms/step - loss: 0.3194 - accuracy: 0.8468 - val_loss: 0.3613 - val_accuracy: 0.8307\n",
            "Epoch 15/20\n",
            "459/459 [==============================] - 12s 26ms/step - loss: 0.3148 - accuracy: 0.8488 - val_loss: 0.3595 - val_accuracy: 0.8312\n",
            "Epoch 16/20\n",
            "459/459 [==============================] - 12s 25ms/step - loss: 0.3098 - accuracy: 0.8503 - val_loss: 0.3621 - val_accuracy: 0.8333\n",
            "Epoch 17/20\n",
            "459/459 [==============================] - 12s 25ms/step - loss: 0.3032 - accuracy: 0.8549 - val_loss: 0.3642 - val_accuracy: 0.8332\n",
            "Epoch 18/20\n",
            "459/459 [==============================] - 12s 26ms/step - loss: 0.2966 - accuracy: 0.8576 - val_loss: 0.3635 - val_accuracy: 0.8339\n",
            "Epoch 19/20\n",
            "459/459 [==============================] - 12s 25ms/step - loss: 0.2893 - accuracy: 0.8611 - val_loss: 0.3672 - val_accuracy: 0.8349\n",
            "Epoch 20/20\n",
            "459/459 [==============================] - 12s 25ms/step - loss: 0.2824 - accuracy: 0.8641 - val_loss: 0.3728 - val_accuracy: 0.8361\n"
          ]
        }
      ]
    },
    {
      "cell_type": "markdown",
      "metadata": {
        "id": "YapfgXrMv2V4"
      },
      "source": [
        "모델의 결과를 그래프로 확인해 보았습니다.\n",
        "\n",
        "epoch의 수가 늘어나며 학습데이터에 loss값은 줄어들고 있으나 검증데이터에 대한 loss값은 비슷한 값을 유지하고 있으며\n",
        "\n",
        "정확도의 경우 학습/검증 데이터 모두 상승하고 있는 것을 알 수 있었습니다.\n",
        "\n",
        "loss도 줄이며 정확도도 오를 수 있게 개선할 수 있는 여지가 있다고 생각됩니다."
      ]
    },
    {
      "cell_type": "code",
      "metadata": {
        "colab": {
          "base_uri": "https://localhost:8080/",
          "height": 414
        },
        "id": "TqTPQnfEBquv",
        "outputId": "fb3af92d-9557-4d59-a111-5fe82a927cab"
      },
      "source": [
        "import numpy as np\n",
        "\n",
        "plt.figure(figsize=(12, 6))\n",
        "plt.plot(np.arange(20)+1, history.history['loss'], label='Loss')\n",
        "plt.plot(np.arange(20)+1, history.history['val_loss'], label='Validation Loss')\n",
        "plt.title('losses over training', fontsize=20)\n",
        "\n",
        "plt.xlabel('epochs', fontsize=15)\n",
        "plt.ylabel('loss', fontsize=15)\n",
        "\n",
        "plt.legend()\n",
        "plt.show()"
      ],
      "execution_count": 69,
      "outputs": [
        {
          "output_type": "display_data",
          "data": {
            "image/png": "[encoded data removed]",
            "text/plain": [
              "<Figure size 864x432 with 1 Axes>"
            ]
          },
          "metadata": {
            "needs_background": "light"
          }
        }
      ]
    },
    {
      "cell_type": "code",
      "metadata": {
        "colab": {
          "base_uri": "https://localhost:8080/",
          "height": 414
        },
        "id": "wi6w8_bcBsu0",
        "outputId": "7d8c023c-acb0-4cb4-fd30-4e102d2368f4"
      },
      "source": [
        "plt.figure(figsize=(12, 6))\n",
        "plt.plot(np.arange(20)+1, history.history['accuracy'], label='Accuracy')\n",
        "plt.plot(np.arange(20)+1, history.history['val_accuracy'], label='Validation Accuracy')\n",
        "plt.title('Accuracy over training', fontsize=20)\n",
        "\n",
        "plt.xlabel('epochs', fontsize=15)\n",
        "plt.ylabel('Accuracy', fontsize=15)\n",
        "\n",
        "plt.legend()\n",
        "plt.show()"
      ],
      "execution_count": 70,
      "outputs": [
        {
          "output_type": "display_data",
          "data": {
            "image/png": "[encoded data removed]",
            "text/plain": [
              "<Figure size 864x432 with 1 Axes>"
            ]
          },
          "metadata": {
            "needs_background": "light"
          }
        }
      ]
    },
    {
      "cell_type": "markdown",
      "metadata": {
        "id": "zBCLsIHrwuI1"
      },
      "source": [
        "k-fold cross validation을 진행해보았습니다.\n",
        "\n",
        "5-fold로 진행 하였고 0.84로 위의 모델과 큰 차이가 나지 않는 것으로 보아 일반화가 어느 정도 괜찮게 된 것 같습니다."
      ]
    },
    {
      "cell_type": "code",
      "metadata": {
        "id": "ngiGRI9LSlPI"
      },
      "source": [
        "from sklearn.model_selection import KFold, cross_val_score\n",
        "from keras.wrappers.scikit_learn import KerasClassifier"
      ],
      "execution_count": 75,
      "outputs": []
    },
    {
      "cell_type": "code",
      "metadata": {
        "id": "w8ljQ8qETcsx"
      },
      "source": [
        "model = KerasClassifier(build_fn=RNN, epochs=20, batch_size=10, verbose=0)"
      ],
      "execution_count": 98,
      "outputs": []
    },
    {
      "cell_type": "code",
      "metadata": {
        "id": "caIBX4ZOTiGV"
      },
      "source": [
        "kfold = KFold(n_splits=5, shuffle=True, random_state=42) \n",
        "results = cross_val_score(model, sequences_matrix, y_train, cv=kfold)"
      ],
      "execution_count": 99,
      "outputs": []
    },
    {
      "cell_type": "code",
      "metadata": {
        "colab": {
          "base_uri": "https://localhost:8080/"
        },
        "id": "tTlEowWbUEi2",
        "outputId": "20169e3f-8339-4233-b34b-bbd15725589f"
      },
      "source": [
        "results"
      ],
      "execution_count": 100,
      "outputs": [
        {
          "output_type": "execute_result",
          "data": {
            "text/plain": [
              "array([0.84559011, 0.83553475, 0.84838927, 0.84165674, 0.84174192])"
            ]
          },
          "metadata": {},
          "execution_count": 100
        }
      ]
    },
    {
      "cell_type": "code",
      "metadata": {
        "colab": {
          "base_uri": "https://localhost:8080/"
        },
        "id": "GNcReVXXxC6Y",
        "outputId": "f6608c9b-658b-4dcb-80f6-41fe5ec99773"
      },
      "source": [
        "results.mean()"
      ],
      "execution_count": 102,
      "outputs": [
        {
          "output_type": "execute_result",
          "data": {
            "text/plain": [
              "0.8425825595855713"
            ]
          },
          "metadata": {},
          "execution_count": 102
        }
      ]
    },
    {
      "cell_type": "code",
      "metadata": {
        "id": "bG4mJm_s3rY-"
      },
      "source": [
        "!pip freeze > requirements.txt"
      ],
      "execution_count": 103,
      "outputs": []
    }
  ]
}